{
 "cells": [
  {
   "cell_type": "code",
   "execution_count": 53,
   "metadata": {},
   "outputs": [],
   "source": [
    "a=[9,8,7,6,5,4,3,2,1]"
   ]
  },
  {
   "cell_type": "code",
   "execution_count": 54,
   "metadata": {},
   "outputs": [],
   "source": [
    "## INSERTION SORT\n",
    "\n",
    "def insertion_sort(a):\n",
    "    for j in range(1,len(a)):\n",
    "        key=a[j]\n",
    "        i=j-1\n",
    "        print(\"Every Key:\",key,\"step:\",j)\n",
    "        while i>0 and a[i]>key:\n",
    "            print(\"before:\",a[i+1],\" exchange:\",a[i])\n",
    "            a[i+1]=a[i]\n",
    "            i=i-1\n",
    "            print(\"after:\",a[i+1],\" exchange:\",a[i])\n",
    "            \n",
    "        a[i+1]=key\n",
    "        print(\"After every for step:\",a)\n",
    "    return a\n",
    "\n",
    "        "
   ]
  },
  {
   "cell_type": "code",
   "execution_count": 55,
   "metadata": {},
   "outputs": [
    {
     "name": "stdout",
     "output_type": "stream",
     "text": [
      "Every Key: 8 step: 1\n",
      "After every for step: [9, 8, 7, 6, 5, 4, 3, 2, 1]\n",
      "Every Key: 7 step: 2\n",
      "before: 7  exchange: 8\n",
      "after: 8  exchange: 9\n",
      "After every for step: [9, 7, 8, 6, 5, 4, 3, 2, 1]\n",
      "Every Key: 6 step: 3\n",
      "before: 6  exchange: 8\n",
      "after: 8  exchange: 7\n",
      "before: 8  exchange: 7\n",
      "after: 7  exchange: 9\n",
      "After every for step: [9, 6, 7, 8, 5, 4, 3, 2, 1]\n",
      "Every Key: 5 step: 4\n",
      "before: 5  exchange: 8\n",
      "after: 8  exchange: 7\n",
      "before: 8  exchange: 7\n",
      "after: 7  exchange: 6\n",
      "before: 7  exchange: 6\n",
      "after: 6  exchange: 9\n",
      "After every for step: [9, 5, 6, 7, 8, 4, 3, 2, 1]\n",
      "Every Key: 4 step: 5\n",
      "before: 4  exchange: 8\n",
      "after: 8  exchange: 7\n",
      "before: 8  exchange: 7\n",
      "after: 7  exchange: 6\n",
      "before: 7  exchange: 6\n",
      "after: 6  exchange: 5\n",
      "before: 6  exchange: 5\n",
      "after: 5  exchange: 9\n",
      "After every for step: [9, 4, 5, 6, 7, 8, 3, 2, 1]\n",
      "Every Key: 3 step: 6\n",
      "before: 3  exchange: 8\n",
      "after: 8  exchange: 7\n",
      "before: 8  exchange: 7\n",
      "after: 7  exchange: 6\n",
      "before: 7  exchange: 6\n",
      "after: 6  exchange: 5\n",
      "before: 6  exchange: 5\n",
      "after: 5  exchange: 4\n",
      "before: 5  exchange: 4\n",
      "after: 4  exchange: 9\n",
      "After every for step: [9, 3, 4, 5, 6, 7, 8, 2, 1]\n",
      "Every Key: 2 step: 7\n",
      "before: 2  exchange: 8\n",
      "after: 8  exchange: 7\n",
      "before: 8  exchange: 7\n",
      "after: 7  exchange: 6\n",
      "before: 7  exchange: 6\n",
      "after: 6  exchange: 5\n",
      "before: 6  exchange: 5\n",
      "after: 5  exchange: 4\n",
      "before: 5  exchange: 4\n",
      "after: 4  exchange: 3\n",
      "before: 4  exchange: 3\n",
      "after: 3  exchange: 9\n",
      "After every for step: [9, 2, 3, 4, 5, 6, 7, 8, 1]\n",
      "Every Key: 1 step: 8\n",
      "before: 1  exchange: 8\n",
      "after: 8  exchange: 7\n",
      "before: 8  exchange: 7\n",
      "after: 7  exchange: 6\n",
      "before: 7  exchange: 6\n",
      "after: 6  exchange: 5\n",
      "before: 6  exchange: 5\n",
      "after: 5  exchange: 4\n",
      "before: 5  exchange: 4\n",
      "after: 4  exchange: 3\n",
      "before: 4  exchange: 3\n",
      "after: 3  exchange: 2\n",
      "before: 3  exchange: 2\n",
      "after: 2  exchange: 9\n",
      "After every for step: [9, 1, 2, 3, 4, 5, 6, 7, 8]\n",
      "[9, 1, 2, 3, 4, 5, 6, 7, 8]\n"
     ]
    }
   ],
   "source": [
    "print(insertion_sort(a))\n"
   ]
  },
  {
   "cell_type": "code",
   "execution_count": null,
   "metadata": {},
   "outputs": [],
   "source": []
  }
 ],
 "metadata": {
  "kernelspec": {
   "display_name": "Python 3",
   "language": "python",
   "name": "python3"
  },
  "language_info": {
   "codemirror_mode": {
    "name": "ipython",
    "version": 3
   },
   "file_extension": ".py",
   "mimetype": "text/x-python",
   "name": "python",
   "nbconvert_exporter": "python",
   "pygments_lexer": "ipython3",
   "version": "3.7.5"
  }
 },
 "nbformat": 4,
 "nbformat_minor": 2
}
